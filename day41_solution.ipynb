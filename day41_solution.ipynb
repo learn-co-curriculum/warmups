{
 "cells": [
  {
   "cell_type": "code",
   "execution_count": null,
   "metadata": {},
   "outputs": [],
   "source": [
    "import numpy as np\n",
    "import pandas as pd\n",
    "\n",
    "# Objective\n",
    "# YWBAT \n",
    "# create attributes in an init method of a class method"
   ]
  },
  {
   "cell_type": "code",
   "execution_count": 1,
   "metadata": {},
   "outputs": [],
   "source": [
    "class Person(object):\n",
    "    \n",
    "    def __init__(self, name, city, favoriteHobby):\n",
    "        \"\"\"\n",
    "        make an __init__ method that takes in variables called \n",
    "        - name\n",
    "        - city\n",
    "        - favoriteHobby\n",
    "\n",
    "        test your class/attributes in the last cell\n",
    "        \"\"\"\n",
    "        self.name = name\n",
    "        self.city = city\n",
    "        self.favoriteHobby = favoriteHobby\n",
    "        pass"
   ]
  },
  {
   "cell_type": "code",
   "execution_count": 2,
   "metadata": {},
   "outputs": [],
   "source": [
    "# test code here, remember if nothing gets printed in the output then you passed!\n",
    "student = Person(name=\"patrick mahomes\", \n",
    "                 city=\"Kansas City\", \n",
    "                 favoriteHobby=\"football\")\n",
    "\n",
    "assert student.name.lower() == \"patrick mahomes\", \"the name attribute isn't set\"\n",
    "assert student.city.lower() == \"kansas city\", \"the city attribute isn't set\"\n",
    "assert student.favoriteHobby.lower() == \"football\", \"the favoriteHobby attribute isn't set\"\"\""
   ]
  },
  {
   "cell_type": "code",
   "execution_count": null,
   "metadata": {},
   "outputs": [],
   "source": []
  }
 ],
 "metadata": {
  "kernelspec": {
   "display_name": "Python [conda env:flatiron-env] *",
   "language": "python",
   "name": "conda-env-flatiron-env-py"
  },
  "language_info": {
   "codemirror_mode": {
    "name": "ipython",
    "version": 3
   },
   "file_extension": ".py",
   "mimetype": "text/x-python",
   "name": "python",
   "nbconvert_exporter": "python",
   "pygments_lexer": "ipython3",
   "version": "3.6.10"
  }
 },
 "nbformat": 4,
 "nbformat_minor": 4
}
