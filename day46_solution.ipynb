{
 "cells": [
  {
   "cell_type": "markdown",
   "metadata": {},
   "source": [
    "# What are the following products?\n",
    "solve by hand please! "
   ]
  },
  {
   "cell_type": "markdown",
   "metadata": {},
   "source": [
    "$$1. (1, 4, 9) \\cdot (2, 5, 10)$$\n",
    "\n",
    "$$2. \\begin{bmatrix} \n",
    "1&2\\\\\n",
    "2&4\\\\\n",
    "\\end{bmatrix} \n",
    "\\times \n",
    "\\begin{bmatrix} \n",
    "1&2\\\\\n",
    "2&4\\\\\n",
    "\\end{bmatrix}\n",
    "$$\n",
    "\n",
    "$$3. \\begin{bmatrix} \n",
    "0&-2&5\\\\\n",
    "4&10&-\\pi\\\\\n",
    "\\end{bmatrix} \n",
    "\\times \n",
    "\\begin{bmatrix} \n",
    "1&8\\\\\n",
    "0&4\\\\\n",
    "9&e\\\\\n",
    "\\end{bmatrix}\n",
    "$$ \n",
    "\n",
    "$$ 4. (2x + y, 3x^2) \\cdot (-x-3, 2y)$$"
   ]
  },
  {
   "cell_type": "markdown",
   "metadata": {},
   "source": [
    "# Type answers here\n",
    "\n",
    "1. $$ 2 + 20 + 90 = 112$$\n",
    "---\n",
    "2. $$ \n",
    "\\begin{bmatrix} \n",
    "5&10\\\\\n",
    "10&20\\\\\n",
    "\\end{bmatrix} \n",
    "$$ \n",
    "---\n",
    "3. $$\n",
    "\\begin{bmatrix} \n",
    "45&5e-8\\\\\n",
    "4-9\\pi&72-e\\pi\\\\\n",
    "\\end{bmatrix} \n",
    "$$\n",
    "---\n",
    "4. $$ -2x^2 - 6x - xy - 3y + 6x^2y$$\n"
   ]
  },
  {
   "cell_type": "code",
   "execution_count": null,
   "metadata": {},
   "outputs": [],
   "source": []
  }
 ],
 "metadata": {
  "kernelspec": {
   "display_name": "Python [conda env:flatiron-env] *",
   "language": "python",
   "name": "conda-env-flatiron-env-py"
  },
  "language_info": {
   "codemirror_mode": {
    "name": "ipython",
    "version": 3
   },
   "file_extension": ".py",
   "mimetype": "text/x-python",
   "name": "python",
   "nbconvert_exporter": "python",
   "pygments_lexer": "ipython3",
   "version": "3.6.10"
  }
 },
 "nbformat": 4,
 "nbformat_minor": 4
}
