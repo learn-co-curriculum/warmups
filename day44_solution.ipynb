{
 "cells": [
  {
   "cell_type": "code",
   "execution_count": 4,
   "metadata": {},
   "outputs": [],
   "source": [
    "import numpy as np\n",
    "from sklearn.metrics import mean_squared_error"
   ]
  },
  {
   "cell_type": "markdown",
   "metadata": {},
   "source": [
    "# Write a function to calculate the RMSE of a ytrue and ypred\n",
    "Write it from scratch, do  not use the sklearn method above\n",
    "![](images/rmse.png)\n"
   ]
  },
  {
   "cell_type": "code",
   "execution_count": 5,
   "metadata": {},
   "outputs": [],
   "source": [
    "def rmse(ytrue, ypred):\n",
    "    \"\"\"\n",
    "    takes in arrays ytrue, ypred\n",
    "    \n",
    "    returns rmse score\n",
    "    \"\"\"\n",
    "    return np.sqrt(np.mean((ytrue-ypred)**2))"
   ]
  },
  {
   "cell_type": "code",
   "execution_count": 6,
   "metadata": {},
   "outputs": [],
   "source": [
    "# run this cell\n",
    "y_true = np.random.normal(50, 20, 1000)\n",
    "noise = np.random.normal(4, 2.5, 1000)\n",
    "y_pred = y_true + noise"
   ]
  },
  {
   "cell_type": "code",
   "execution_count": 7,
   "metadata": {},
   "outputs": [],
   "source": [
    "# run this cell to test your method, if nothing happens you passed!\n",
    "expected = mean_squared_error(y_true, y_pred, squared=False)\n",
    "actual = rmse(y_true, y_pred)\n",
    "\n",
    "assert actual==expected, f\"rmse is not correct\\n expected: {expected}\\n you returned: {actual}\""
   ]
  },
  {
   "cell_type": "code",
   "execution_count": null,
   "metadata": {},
   "outputs": [],
   "source": []
  }
 ],
 "metadata": {
  "kernelspec": {
   "display_name": "Python [conda env:flatiron-env] *",
   "language": "python",
   "name": "conda-env-flatiron-env-py"
  },
  "language_info": {
   "codemirror_mode": {
    "name": "ipython",
    "version": 3
   },
   "file_extension": ".py",
   "mimetype": "text/x-python",
   "name": "python",
   "nbconvert_exporter": "python",
   "pygments_lexer": "ipython3",
   "version": "3.6.10"
  }
 },
 "nbformat": 4,
 "nbformat_minor": 4
}
