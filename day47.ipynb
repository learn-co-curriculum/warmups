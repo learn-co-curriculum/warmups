{
 "cells": [
  {
   "cell_type": "markdown",
   "metadata": {},
   "source": [
    "# Logistic Regression Equation\n",
    "\n",
    "$$ y = \\frac{1}{1 + e^{-\\beta x}}$$"
   ]
  },
  {
   "cell_type": "markdown",
   "metadata": {},
   "source": [
    "### In the logistic regression what does y represent? \n",
    "\n",
    "Answer here:"
   ]
  },
  {
   "cell_type": "markdown",
   "metadata": {},
   "source": [
    "### What are the bounds of y?\n",
    "Answer here:"
   ]
  },
  {
   "cell_type": "markdown",
   "metadata": {},
   "source": [
    "### How do you know these are the bounds of y?\n",
    "Answer here:"
   ]
  },
  {
   "cell_type": "markdown",
   "metadata": {},
   "source": [
    "## Answer the questions to the following scenario. \n",
    "There exists some data, X, that we are using to classify if someone is prefers Netflix or Hulu.  Netflix is class 0 and Hulu is class 1. \n",
    "\n",
    "* User A has a row information $\\vec{a} = (x_0, x_1, x_2, ..., x_n)$.  After plugging in their data into the sigmoid equation, the following is calculated\n",
    "\n",
    "$$ y_a = \\frac{1}{1+e^{-\\beta \\vec{a}}}$$ \n",
    "\n",
    "----\n",
    "\n",
    "$$ y_a = 0.55 $$\n",
    "\n",
    "What would you say about user A's preference of Netflix or Hulu, given the output, and why?\n",
    "\n",
    "Answer here:\n"
   ]
  },
  {
   "cell_type": "code",
   "execution_count": null,
   "metadata": {},
   "outputs": [],
   "source": []
  }
 ],
 "metadata": {
  "kernelspec": {
   "display_name": "Python [conda env:flatiron-env] *",
   "language": "python",
   "name": "conda-env-flatiron-env-py"
  },
  "language_info": {
   "codemirror_mode": {
    "name": "ipython",
    "version": 3
   },
   "file_extension": ".py",
   "mimetype": "text/x-python",
   "name": "python",
   "nbconvert_exporter": "python",
   "pygments_lexer": "ipython3",
   "version": "3.6.10"
  }
 },
 "nbformat": 4,
 "nbformat_minor": 4
}
